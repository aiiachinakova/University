{
 "cells": [
  {
   "cell_type": "code",
   "execution_count": 50,
   "metadata": {},
   "outputs": [
    {
     "name": "stdout",
     "output_type": "stream",
     "text": [
      "1 1\n",
      "2 2\n",
      "3 6\n",
      "4 24\n",
      "5 120\n",
      "6 720\n",
      "7 5040\n",
      "8 40320\n",
      "9 362880\n",
      "10 3628800\n"
     ]
    }
   ],
   "source": [
    "class Factorial:\n",
    "    \n",
    "    class _Fact_iter:\n",
    "\n",
    "        def __init__(self):\n",
    "            self.i = 1\n",
    "            self.fact = 1\n",
    "\n",
    "        def __next__(self):\n",
    "            self.fact *= self.i\n",
    "            self.i += 1\n",
    "            return self.fact\n",
    "\n",
    "    def __iter__(self):\n",
    "        return Factorial._Fact_iter()\n",
    "\n",
    "fct = Factorial()\n",
    "\n",
    "import itertools as it\n",
    "\n",
    "for i, f in zip(it.count(1), it.islice(fct, 10)):\n",
    "    print(i, f)\n"
   ]
  },
  {
   "cell_type": "code",
   "execution_count": null,
   "metadata": {},
   "outputs": [],
   "source": []
  },
  {
   "cell_type": "code",
   "execution_count": null,
   "metadata": {},
   "outputs": [],
   "source": []
  }
 ],
 "metadata": {
  "kernelspec": {
   "display_name": "Python 3",
   "language": "python",
   "name": "python3"
  },
  "language_info": {
   "codemirror_mode": {
    "name": "ipython",
    "version": 3
   },
   "file_extension": ".py",
   "mimetype": "text/x-python",
   "name": "python",
   "nbconvert_exporter": "python",
   "pygments_lexer": "ipython3",
   "version": "3.8.6"
  }
 },
 "nbformat": 4,
 "nbformat_minor": 4
}
