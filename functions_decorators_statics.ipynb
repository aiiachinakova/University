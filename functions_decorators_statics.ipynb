
   "source": [
    "def repeat(n):  # Вот это и надо реализовать\n",
    "    def recurse_function(function_to_recurse):\n",
    "        def fake_function(*args, **kwargs):  # Создаёт внутри фальшивую функцию\n",
    "            result = args[0]\n",
    "            for i in range(n):\n",
    "                result = function_to_recurse(result)\n",
    "            return result\n",
    "        return fake_function\n",
    "    return recurse_function\n",
    "        \n",
    "\n",
    "\n",
    "@repeat(2)\n",
    "def plus_1(x):\n",
    "    return x + 1\n",
    "\n",
    "\n",
    "@repeat(0)\n",
    "def mul_2(x):\n",
    "    return x * 2\n",
    "\n",
    "print(plus_1(3))  # должно выдать 5\n",
    "print(mul_2(4))  # должно выдать 4"
   ]
  
