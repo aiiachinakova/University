{
 "cells": [
  {
   "cell_type": "code",
   "execution_count": 27,
   "metadata": {},
   "outputs": [
    {
     "name": "stdout",
     "output_type": "stream",
     "text": [
      "([11, 143], 2)\n"
     ]
    }
   ],
   "source": [
    "t = \"\"\"Вместе шли они в сраженья через минные поля,\n",
    "на узлах сопротивленья славу поровну деля.\n",
    "Не страшили дождь и ночь их, и немало огневых\n",
    "подавили они точек, не считая запятых.\n",
    "Воевала дело зная та четверка храбрецов -\n",
    "Иваненко, Иванбаев, Иванидзе, Иванов.\"\"\"\n",
    "p = \"Bdfy\"\n",
    "\n",
    "def find_all_rabin_karp(text, pattern):\n",
    "    txt_len = len(text)\n",
    "    pat_len = len(pattern)\n",
    "    pat_sum = sum(ord(s) for s in pattern)\n",
    "    result = []\n",
    "    a = 0\n",
    "    \n",
    "    check = False\n",
    "\n",
    "    for i in range(txt_len - pat_len):\n",
    "        txt_part = text[i:(pat_len + i)]          \n",
    "        txt_sum = sum(ord(s) for s in txt_part)\n",
    "        if pat_sum == txt_sum:                 \n",
    "            for j in range(len(txt_part) - 1):\n",
    "                if txt_part[j] != pattern[j]:            \n",
    "                     check = False\n",
    "                     break\n",
    "                else: check = True\n",
    "            if check == True:                    \n",
    "                result.append(i)\n",
    "                a+=1\n",
    "                \n",
    "    return result, a\n",
    "\n",
    "print(find_all_rabin_karp(t, p))"
   ]
  },
  {
   "cell_type": "code",
   "execution_count": null,
   "metadata": {},
   "outputs": [],
   "source": []
  },
  {
   "cell_type": "code",
   "execution_count": null,
   "metadata": {},
   "outputs": [],
   "source": []
  },
  {
   "cell_type": "code",
   "execution_count": null,
   "metadata": {},
   "outputs": [],
   "source": []
  }
 ],
 "metadata": {
  "kernelspec": {
   "display_name": "Python 3",
   "language": "python",
   "name": "python3"
  },
  "language_info": {
   "codemirror_mode": {
    "name": "ipython",
    "version": 3
   },
   "file_extension": ".py",
   "mimetype": "text/x-python",
   "name": "python",
   "nbconvert_exporter": "python",
   "pygments_lexer": "ipython3",
   "version": "3.8.6"
  }
 },
 "nbformat": 4,
 "nbformat_minor": 4
}
