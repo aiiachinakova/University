import math

ITERATIONS = 30

def my_cos(x):

    x_pow = 1
    multiplier = 1
    partial_sum = 1
    for n in range(1, ITERATIONS):
        x_pow *= x**2
        multiplier *= -1 / (2*n - 1) / (2*n)
        partial_sum += x_pow * multiplier
    
    return partial_sum

print(help(math.cos), math.cos(0.8))
print(help(my_cos), my_cos(0.8))

%matplotlib inline
import numpy as np
from matplotlib import pyplot as plt
angles = np.r_[-math.pi:math.pi:0.01]
plt.plot(angles, np.cos(angles))
plt.plot(angles, np.vectorize(my_cos)(angles))
plt.show()
