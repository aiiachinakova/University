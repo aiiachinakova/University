{
  "nbformat": 4,
  "nbformat_minor": 0,
  "metadata": {
    "colab": {
      "name": "Копия блокнота \"Untitled4.ipynb\"",
      "provenance": [],
      "collapsed_sections": []
    },
    "kernelspec": {
      "name": "python3",
      "display_name": "Python 3"
    },
    "language_info": {
      "name": "python"
    }
  },
  "cells": [
    {
      "cell_type": "code",
      "metadata": {
        "id": "ha6eg50OTRPA"
      },
      "source": [
        "import os\n",
        "import numpy as np\n",
        "import math\n",
        "from tensorflow.keras import models, layers"
      ],
      "execution_count": null,
      "outputs": []
    },
    {
      "cell_type": "code",
      "metadata": {
        "id": "IFmlAskmTTBo"
      },
      "source": [
        "XY = np.random.random((1_000_000, 2)).astype(np.float32) * 4.0 - 2.0\n",
        "\n",
        "Z = np.array([\n",
        "    1 if x ** 2 + (y-np.abs(x) ** (2/3)) ** 2 <= 1  else 0\n",
        "    for [x, y] in XY\n",
        "    ], dtype=np.float32)"
      ],
      "execution_count": null,
      "outputs": []
    },
    {
      "cell_type": "code",
      "metadata": {
        "colab": {
          "base_uri": "https://localhost:8080/"
        },
        "id": "-Uv5G59ZW1gj",
        "outputId": "01752c3d-ef83-48c3-cf29-c55ae4421b01"
      },
      "source": [
        "print(XY)"
      ],
      "execution_count": null,
      "outputs": [
        {
          "output_type": "stream",
          "text": [
            "[[-1.6479697  -1.4300768 ]\n",
            " [ 0.83270216 -1.9752002 ]\n",
            " [-1.2916431  -0.870607  ]\n",
            " ...\n",
            " [-0.9599998   1.2120895 ]\n",
            " [ 0.8946357  -1.3474646 ]\n",
            " [-0.6594579  -1.9256927 ]]\n"
          ],
          "name": "stdout"
        }
      ]
    },
    {
      "cell_type": "code",
      "metadata": {
        "id": "IdkKmTmiTUm5"
      },
      "source": [
        "model = models.Sequential([\n",
        "    layers.InputLayer(input_shape=(2,)),\n",
        "    layers.Dense(100, activation='sigmoid', use_bias=True),\n",
        "    layers.Dense(20, activation='sigmoid', use_bias=True),\n",
        "    layers.Dense(1, activation='sigmoid', use_bias=False)\n",
        "])\n",
        "\n",
        "model.compile(\n",
        "    loss='mean_squared_error',\n",
        "    optimizer='adam',\n",
        "    metrics='accuracy'\n",
        ")"
      ],
      "execution_count": null,
      "outputs": []
    },
    {
      "cell_type": "code",
      "metadata": {
        "colab": {
          "base_uri": "https://localhost:8080/"
        },
        "id": "5apz_g_8TXMl",
        "outputId": "591087f3-ea8f-43ce-d86e-13b9074feab2"
      },
      "source": [
        "if os.path.isfile(\"smart_duckling_colab.h5\"):\n",
        "    print(\"Loading existing synapses...\")\n",
        "    model.load_weights(\"smart_duckling_colab.h5\")\n",
        "else:\n",
        "    print(\"Training the duckling...\")\n",
        "    model.fit(\n",
        "        XY, Z,\n",
        "        epochs=100,\n",
        "        batch_size=1000,\n",
        "        use_multiprocessing=True,\n",
        "        verbose=False\n",
        "    )\n",
        "    model.save(\"smart_duckling_colab.h5\")\n",
        "\n",
        "print(\"Done,\", model.evaluate(XY, Z))"
      ],
      "execution_count": null,
      "outputs": [
        {
          "output_type": "stream",
          "text": [
            "Training the duckling...\n",
            "31250/31250 [==============================] - 30s 949us/step - loss: 0.0020 - accuracy: 0.9977\n",
            "Done, [0.0019644873682409525, 0.9976649880409241]\n"
          ],
          "name": "stdout"
        }
      ]
    },
    {
      "cell_type": "code",
      "metadata": {
        "colab": {
          "base_uri": "https://localhost:8080/",
          "height": 265
        },
        "id": "-5v2KZiLTZ4U",
        "outputId": "e0b21c8e-24e0-4de3-c661-d70ea33577f3"
      },
      "source": [
        "%matplotlib inline\n",
        "\n",
        "import matplotlib.pyplot as plt\n",
        "\n",
        "plt.axis('equal')\n",
        "\n",
        "c = np.linspace(-2,2,50)\n",
        "\n",
        "XY = np.transpose([np.tile(c, len(c)), np.repeat(c, len(c))])\n",
        "\n",
        "Z = model.predict(XY)\n",
        "\n",
        "for (x, y), z in zip(XY, Z):\n",
        "    plt.scatter(x, y, c='pink' if z[0] >= 0.5 else 'green', marker='.')\n",
        "\n",
        "plt.show()"
      ],
      "execution_count": null,
      "outputs": [
        {
          "output_type": "display_data",
          "data": {
            "image/png": "[encoded data removed]",
            "text/plain": [
              "<Figure size 432x288 with 1 Axes>"
            ]
          },
          "metadata": {
            "tags": [],
            "needs_background": "light"
          }
        }
      ]
    },
    {
      "cell_type": "code",
      "metadata": {
        "id": "jztqb_HlTb_I",
        "colab": {
          "base_uri": "https://localhost:8080/",
          "height": 265
        },
        "outputId": "6cae611f-57bb-4395-b5a8-43dc380d237a"
      },
      "source": [
        "def saturate(v):\n",
        "    return min(1, max(0, v))\n",
        "\n",
        "plt.axis('equal')\n",
        "\n",
        "for (x, y), z in zip(XY, Z):\n",
        "    plt.scatter(x, y, color=[(1, 1-saturate(z[0]), 1-saturate(z[0]))], marker='.')\n",
        "\n",
        "plt.show()"
      ],
      "execution_count": null,
      "outputs": [
        {
          "output_type": "display_data",
          "data": {
            "image/png": "[encoded data removed]",
            "text/plain": [
              "<Figure size 432x288 with 1 Axes>"
            ]
          },
          "metadata": {
            "tags": [],
            "needs_background": "light"
          }
        }
      ]
    }
  ]
}